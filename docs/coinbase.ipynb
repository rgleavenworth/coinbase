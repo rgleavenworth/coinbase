{
 "cells": [
  {
   "cell_type": "code",
   "execution_count": 1,
   "metadata": {},
   "outputs": [],
   "source": [
    "import coinbase"
   ]
  },
  {
   "cell_type": "code",
   "execution_count": 2,
   "metadata": {},
   "outputs": [
    {
     "data": {
      "text/plain": [
       "'0.0.post1.dev1+ga313c20.d20230515'"
      ]
     },
     "execution_count": 2,
     "metadata": {},
     "output_type": "execute_result"
    }
   ],
   "source": [
    "coinbase.__version__"
   ]
  },
  {
   "cell_type": "code",
   "execution_count": 3,
   "metadata": {},
   "outputs": [
    {
     "data": {
      "text/html": [
       "<div>\n",
       "<style scoped>\n",
       "    .dataframe tbody tr th:only-of-type {\n",
       "        vertical-align: middle;\n",
       "    }\n",
       "\n",
       "    .dataframe tbody tr th {\n",
       "        vertical-align: top;\n",
       "    }\n",
       "\n",
       "    .dataframe thead th {\n",
       "        text-align: right;\n",
       "    }\n",
       "</style>\n",
       "<table border=\"1\" class=\"dataframe\">\n",
       "  <thead>\n",
       "    <tr style=\"text-align: right;\">\n",
       "      <th></th>\n",
       "      <th>name</th>\n",
       "      <th>currency</th>\n",
       "      <th>available_balance</th>\n",
       "      <th>hold</th>\n",
       "      <th>exchange_rate</th>\n",
       "      <th>usd_value</th>\n",
       "    </tr>\n",
       "  </thead>\n",
       "  <tbody>\n",
       "    <tr>\n",
       "      <th>0</th>\n",
       "      <td>Cash (USD)</td>\n",
       "      <td>USD</td>\n",
       "      <td>0.01032967</td>\n",
       "      <td>0.00000000</td>\n",
       "      <td>1.00</td>\n",
       "      <td>0.01</td>\n",
       "    </tr>\n",
       "    <tr>\n",
       "      <th>1</th>\n",
       "      <td>BTC Wallet</td>\n",
       "      <td>BTC</td>\n",
       "      <td>0.00000000</td>\n",
       "      <td>0.03705893</td>\n",
       "      <td>27054.37</td>\n",
       "      <td>1002.61</td>\n",
       "    </tr>\n",
       "  </tbody>\n",
       "</table>\n",
       "</div>"
      ],
      "text/plain": [
       "         name currency  available_balance        hold  exchange_rate  \\\n",
       "0  Cash (USD)      USD         0.01032967  0.00000000           1.00   \n",
       "1  BTC Wallet      BTC         0.00000000  0.03705893       27054.37   \n",
       "\n",
       "   usd_value  \n",
       "0       0.01  \n",
       "1    1002.61  "
      ]
     },
     "execution_count": 3,
     "metadata": {},
     "output_type": "execute_result"
    }
   ],
   "source": [
    "coinbase.get_balance()"
   ]
  },
  {
   "cell_type": "code",
   "execution_count": 7,
   "metadata": {},
   "outputs": [
    {
     "data": {
      "text/plain": [
       "{'success': True,\n",
       " 'failure_reason': 'UNKNOWN_FAILURE_REASON',\n",
       " 'order_id': 'a53a1429-a26c-48cf-b3d9-026eb28acbef',\n",
       " 'success_response': {'order_id': 'a53a1429-a26c-48cf-b3d9-026eb28acbef',\n",
       "  'product_id': 'BTC-USD',\n",
       "  'side': 'SELL',\n",
       "  'client_order_id': 'coinbase_limit_sell_btc-usd_29700'},\n",
       " 'order_configuration': {'limit_limit_gtc': {'base_size': '0.0370589300000000',\n",
       "   'limit_price': '29700',\n",
       "   'post_only': True}}}"
      ]
     },
     "execution_count": 7,
     "metadata": {},
     "output_type": "execute_result"
    }
   ],
   "source": [
    "coinbase.create_order('sell', limit_price = 29700)"
   ]
  },
  {
   "cell_type": "code",
   "execution_count": 6,
   "metadata": {},
   "outputs": [
    {
     "name": "stdout",
     "output_type": "stream",
     "text": [
      "Cancelling 1 orders\n"
     ]
    },
    {
     "data": {
      "text/plain": [
       "{'results': [{'success': True,\n",
       "   'failure_reason': 'UNKNOWN_CANCEL_FAILURE_REASON',\n",
       "   'order_id': '5eb265e3-c36a-4005-b2d3-f98f3ee02e3d'}]}"
      ]
     },
     "execution_count": 6,
     "metadata": {},
     "output_type": "execute_result"
    }
   ],
   "source": [
    "coinbase.cancel_order(debug=True)"
   ]
  },
  {
   "cell_type": "code",
   "execution_count": null,
   "metadata": {},
   "outputs": [],
   "source": []
  },
  {
   "cell_type": "code",
   "execution_count": null,
   "metadata": {},
   "outputs": [],
   "source": []
  }
 ],
 "metadata": {
  "kernelspec": {
   "display_name": "base",
   "language": "python",
   "name": "python3"
  },
  "language_info": {
   "codemirror_mode": {
    "name": "ipython",
    "version": 3
   },
   "file_extension": ".py",
   "mimetype": "text/x-python",
   "name": "python",
   "nbconvert_exporter": "python",
   "pygments_lexer": "ipython3",
   "version": "3.9.16"
  },
  "orig_nbformat": 4
 },
 "nbformat": 4,
 "nbformat_minor": 2
}
