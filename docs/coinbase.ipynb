{
 "cells": [
  {
   "cell_type": "code",
   "execution_count": 1,
   "metadata": {},
   "outputs": [],
   "source": [
    "import coinbase"
   ]
  },
  {
   "cell_type": "code",
   "execution_count": 2,
   "metadata": {},
   "outputs": [
    {
     "data": {
      "text/plain": [
       "'0.95'"
      ]
     },
     "execution_count": 2,
     "metadata": {},
     "output_type": "execute_result"
    }
   ],
   "source": [
    "coinbase.__version__"
   ]
  },
  {
   "attachments": {},
   "cell_type": "markdown",
   "metadata": {},
   "source": [
    "# Get Balances"
   ]
  },
  {
   "cell_type": "code",
   "execution_count": 6,
   "metadata": {},
   "outputs": [
    {
     "data": {
      "text/html": [
       "<div>\n",
       "<style scoped>\n",
       "    .dataframe tbody tr th:only-of-type {\n",
       "        vertical-align: middle;\n",
       "    }\n",
       "\n",
       "    .dataframe tbody tr th {\n",
       "        vertical-align: top;\n",
       "    }\n",
       "\n",
       "    .dataframe thead th {\n",
       "        text-align: right;\n",
       "    }\n",
       "</style>\n",
       "<table border=\"1\" class=\"dataframe\">\n",
       "  <thead>\n",
       "    <tr style=\"text-align: right;\">\n",
       "      <th></th>\n",
       "      <th>name</th>\n",
       "      <th>currency</th>\n",
       "      <th>available_balance</th>\n",
       "      <th>hold</th>\n",
       "      <th>exchange_rate</th>\n",
       "      <th>usd_value</th>\n",
       "    </tr>\n",
       "  </thead>\n",
       "  <tbody>\n",
       "    <tr>\n",
       "      <th>0</th>\n",
       "      <td>Cash (USD)</td>\n",
       "      <td>USD</td>\n",
       "      <td>0.01588825</td>\n",
       "      <td>985.54688939</td>\n",
       "      <td>1.00</td>\n",
       "      <td>985.56</td>\n",
       "    </tr>\n",
       "    <tr>\n",
       "      <th>1</th>\n",
       "      <td>BTC Wallet</td>\n",
       "      <td>BTC</td>\n",
       "      <td>0.00000000</td>\n",
       "      <td>0.00000000</td>\n",
       "      <td>26735.21</td>\n",
       "      <td>0.00</td>\n",
       "    </tr>\n",
       "  </tbody>\n",
       "</table>\n",
       "</div>"
      ],
      "text/plain": [
       "         name currency  available_balance          hold  exchange_rate  \\\n",
       "0  Cash (USD)      USD         0.01588825  985.54688939           1.00   \n",
       "1  BTC Wallet      BTC         0.00000000    0.00000000       26735.21   \n",
       "\n",
       "   usd_value  \n",
       "0     985.56  \n",
       "1       0.00  "
      ]
     },
     "execution_count": 6,
     "metadata": {},
     "output_type": "execute_result"
    }
   ],
   "source": [
    "coinbase.get_balance()"
   ]
  },
  {
   "attachments": {},
   "cell_type": "markdown",
   "metadata": {},
   "source": [
    "# Create order"
   ]
  },
  {
   "attachments": {},
   "cell_type": "markdown",
   "metadata": {},
   "source": [
    "## Limit order"
   ]
  },
  {
   "cell_type": "code",
   "execution_count": 4,
   "metadata": {},
   "outputs": [
    {
     "data": {
      "text/plain": [
       "{'success': True,\n",
       " 'failure_reason': 'UNKNOWN_FAILURE_REASON',\n",
       " 'order_id': 'ecd2fb50-7234-4f10-82b0-de69a0c9477a',\n",
       " 'success_response': {'order_id': 'ecd2fb50-7234-4f10-82b0-de69a0c9477a',\n",
       "  'product_id': 'BTC-USD',\n",
       "  'side': 'BUY',\n",
       "  'client_order_id': 'coinbase_LIMIT_buy_btc-usd_26444.9'},\n",
       " 'order_configuration': {'limit_limit_gtc': {'base_size': '6e-07',\n",
       "   'limit_price': '26444.9',\n",
       "   'post_only': True}}}"
      ]
     },
     "execution_count": 4,
     "metadata": {},
     "output_type": "execute_result"
    }
   ],
   "source": [
    "coinbase.create_order('buy', order_type = 'LIMIT', limit_price = 26444.9)"
   ]
  },
  {
   "attachments": {},
   "cell_type": "markdown",
   "metadata": {},
   "source": [
    "## Sell Stop"
   ]
  },
  {
   "cell_type": "code",
   "execution_count": null,
   "metadata": {},
   "outputs": [],
   "source": [
    "coinbase.create_order('sell', order_type = 'STOP', limit_price = 26701, debug=True)"
   ]
  },
  {
   "attachments": {},
   "cell_type": "markdown",
   "metadata": {},
   "source": [
    "# Show orders"
   ]
  },
  {
   "attachments": {},
   "cell_type": "markdown",
   "metadata": {},
   "source": [
    "## Active orders for the last 30 days (default)"
   ]
  },
  {
   "cell_type": "code",
   "execution_count": null,
   "metadata": {},
   "outputs": [],
   "source": [
    "coinbase.get_orders()"
   ]
  },
  {
   "attachments": {},
   "cell_type": "markdown",
   "metadata": {},
   "source": [
    "## Filled orders for last 30 days"
   ]
  },
  {
   "cell_type": "code",
   "execution_count": null,
   "metadata": {},
   "outputs": [
    {
     "data": {
      "text/html": [
       "<div>\n",
       "<style scoped>\n",
       "    .dataframe tbody tr th:only-of-type {\n",
       "        vertical-align: middle;\n",
       "    }\n",
       "\n",
       "    .dataframe tbody tr th {\n",
       "        vertical-align: top;\n",
       "    }\n",
       "\n",
       "    .dataframe thead th {\n",
       "        text-align: right;\n",
       "    }\n",
       "</style>\n",
       "<table border=\"1\" class=\"dataframe\">\n",
       "  <thead>\n",
       "    <tr style=\"text-align: right;\">\n",
       "      <th></th>\n",
       "      <th>order_id</th>\n",
       "      <th>product_id</th>\n",
       "      <th>user_id</th>\n",
       "      <th>order_configuration</th>\n",
       "      <th>side</th>\n",
       "      <th>client_order_id</th>\n",
       "      <th>status</th>\n",
       "      <th>time_in_force</th>\n",
       "      <th>created_time</th>\n",
       "      <th>completion_percentage</th>\n",
       "      <th>...</th>\n",
       "      <th>order_type</th>\n",
       "      <th>reject_reason</th>\n",
       "      <th>settled</th>\n",
       "      <th>product_type</th>\n",
       "      <th>reject_message</th>\n",
       "      <th>cancel_message</th>\n",
       "      <th>order_placement_source</th>\n",
       "      <th>outstanding_hold_amount</th>\n",
       "      <th>is_liquidation</th>\n",
       "      <th>created_date</th>\n",
       "    </tr>\n",
       "  </thead>\n",
       "  <tbody>\n",
       "    <tr>\n",
       "      <th>4</th>\n",
       "      <td>a15abfc3-8b48-4d0b-8ea8-508ccb6c8a1c</td>\n",
       "      <td>BTC-USD</td>\n",
       "      <td>70471542-a0da-523b-925f-f0413dfe6b6f</td>\n",
       "      <td>{'stop_limit_stop_limit_gtc': {'base_size': '0...</td>\n",
       "      <td>SELL</td>\n",
       "      <td>coinbase_STOP_sell_btc-usd_26701</td>\n",
       "      <td>FILLED</td>\n",
       "      <td>GOOD_UNTIL_CANCELLED</td>\n",
       "      <td>2023-05-16 20:43:32.552644+00:00</td>\n",
       "      <td>100.00</td>\n",
       "      <td>...</td>\n",
       "      <td>STOP_LIMIT</td>\n",
       "      <td>REJECT_REASON_UNSPECIFIED</td>\n",
       "      <td>True</td>\n",
       "      <td>SPOT</td>\n",
       "      <td></td>\n",
       "      <td></td>\n",
       "      <td>RETAIL_ADVANCED</td>\n",
       "      <td>0</td>\n",
       "      <td>False</td>\n",
       "      <td>2023-05-16</td>\n",
       "    </tr>\n",
       "    <tr>\n",
       "      <th>10</th>\n",
       "      <td>3e2a7570-497b-48a8-b2a0-d930bed1bb8d</td>\n",
       "      <td>BTC-USD</td>\n",
       "      <td>70471542-a0da-523b-925f-f0413dfe6b6f</td>\n",
       "      <td>{'limit_limit_gtc': {'base_size': '0.00007464'...</td>\n",
       "      <td>BUY</td>\n",
       "      <td>f0bf4497-6b8e-496b-bbe4-00265406d568</td>\n",
       "      <td>FILLED</td>\n",
       "      <td>GOOD_UNTIL_CANCELLED</td>\n",
       "      <td>2023-05-11 18:39:13.956756+00:00</td>\n",
       "      <td>100.00</td>\n",
       "      <td>...</td>\n",
       "      <td>LIMIT</td>\n",
       "      <td>REJECT_REASON_UNSPECIFIED</td>\n",
       "      <td>True</td>\n",
       "      <td>SPOT</td>\n",
       "      <td></td>\n",
       "      <td></td>\n",
       "      <td>RETAIL_ADVANCED</td>\n",
       "      <td>0</td>\n",
       "      <td>False</td>\n",
       "      <td>2023-05-11</td>\n",
       "    </tr>\n",
       "    <tr>\n",
       "      <th>11</th>\n",
       "      <td>68cc9a52-f3e4-4e6f-ab44-6ae762672ea1</td>\n",
       "      <td>BTC-USD</td>\n",
       "      <td>70471542-a0da-523b-925f-f0413dfe6b6f</td>\n",
       "      <td>{'limit_limit_gtc': {'base_size': '0.03525045'...</td>\n",
       "      <td>BUY</td>\n",
       "      <td>8bba60ec-6518-45fc-b241-7f0b2dba83d6</td>\n",
       "      <td>FILLED</td>\n",
       "      <td>GOOD_UNTIL_CANCELLED</td>\n",
       "      <td>2023-04-26 22:23:38.743456+00:00</td>\n",
       "      <td>100.00</td>\n",
       "      <td>...</td>\n",
       "      <td>LIMIT</td>\n",
       "      <td>REJECT_REASON_UNSPECIFIED</td>\n",
       "      <td>True</td>\n",
       "      <td>SPOT</td>\n",
       "      <td></td>\n",
       "      <td></td>\n",
       "      <td>RETAIL_ADVANCED</td>\n",
       "      <td>0</td>\n",
       "      <td>False</td>\n",
       "      <td>2023-04-26</td>\n",
       "    </tr>\n",
       "  </tbody>\n",
       "</table>\n",
       "<p>3 rows × 31 columns</p>\n",
       "</div>"
      ],
      "text/plain": [
       "                                order_id product_id  \\\n",
       "4   a15abfc3-8b48-4d0b-8ea8-508ccb6c8a1c    BTC-USD   \n",
       "10  3e2a7570-497b-48a8-b2a0-d930bed1bb8d    BTC-USD   \n",
       "11  68cc9a52-f3e4-4e6f-ab44-6ae762672ea1    BTC-USD   \n",
       "\n",
       "                                 user_id  \\\n",
       "4   70471542-a0da-523b-925f-f0413dfe6b6f   \n",
       "10  70471542-a0da-523b-925f-f0413dfe6b6f   \n",
       "11  70471542-a0da-523b-925f-f0413dfe6b6f   \n",
       "\n",
       "                                  order_configuration  side  \\\n",
       "4   {'stop_limit_stop_limit_gtc': {'base_size': '0...  SELL   \n",
       "10  {'limit_limit_gtc': {'base_size': '0.00007464'...   BUY   \n",
       "11  {'limit_limit_gtc': {'base_size': '0.03525045'...   BUY   \n",
       "\n",
       "                         client_order_id  status         time_in_force  \\\n",
       "4       coinbase_STOP_sell_btc-usd_26701  FILLED  GOOD_UNTIL_CANCELLED   \n",
       "10  f0bf4497-6b8e-496b-bbe4-00265406d568  FILLED  GOOD_UNTIL_CANCELLED   \n",
       "11  8bba60ec-6518-45fc-b241-7f0b2dba83d6  FILLED  GOOD_UNTIL_CANCELLED   \n",
       "\n",
       "                       created_time completion_percentage  ...  order_type  \\\n",
       "4  2023-05-16 20:43:32.552644+00:00                100.00  ...  STOP_LIMIT   \n",
       "10 2023-05-11 18:39:13.956756+00:00                100.00  ...       LIMIT   \n",
       "11 2023-04-26 22:23:38.743456+00:00                100.00  ...       LIMIT   \n",
       "\n",
       "                reject_reason settled product_type reject_message  \\\n",
       "4   REJECT_REASON_UNSPECIFIED    True         SPOT                  \n",
       "10  REJECT_REASON_UNSPECIFIED    True         SPOT                  \n",
       "11  REJECT_REASON_UNSPECIFIED    True         SPOT                  \n",
       "\n",
       "    cancel_message  order_placement_source outstanding_hold_amount  \\\n",
       "4                          RETAIL_ADVANCED                       0   \n",
       "10                         RETAIL_ADVANCED                       0   \n",
       "11                         RETAIL_ADVANCED                       0   \n",
       "\n",
       "    is_liquidation created_date  \n",
       "4            False   2023-05-16  \n",
       "10           False   2023-05-11  \n",
       "11           False   2023-04-26  \n",
       "\n",
       "[3 rows x 31 columns]"
      ]
     },
     "execution_count": 3,
     "metadata": {},
     "output_type": "execute_result"
    }
   ],
   "source": [
    "coinbase.get_orders(fill=True)"
   ]
  },
  {
   "attachments": {},
   "cell_type": "markdown",
   "metadata": {},
   "source": [
    "## All orders going back forever"
   ]
  },
  {
   "cell_type": "code",
   "execution_count": 5,
   "metadata": {},
   "outputs": [
    {
     "data": {
      "text/html": [
       "<div>\n",
       "<style scoped>\n",
       "    .dataframe tbody tr th:only-of-type {\n",
       "        vertical-align: middle;\n",
       "    }\n",
       "\n",
       "    .dataframe tbody tr th {\n",
       "        vertical-align: top;\n",
       "    }\n",
       "\n",
       "    .dataframe thead th {\n",
       "        text-align: right;\n",
       "    }\n",
       "</style>\n",
       "<table border=\"1\" class=\"dataframe\">\n",
       "  <thead>\n",
       "    <tr style=\"text-align: right;\">\n",
       "      <th></th>\n",
       "      <th>order_id</th>\n",
       "      <th>product_id</th>\n",
       "      <th>user_id</th>\n",
       "      <th>order_configuration</th>\n",
       "      <th>side</th>\n",
       "      <th>client_order_id</th>\n",
       "      <th>status</th>\n",
       "      <th>time_in_force</th>\n",
       "      <th>created_time</th>\n",
       "      <th>completion_percentage</th>\n",
       "      <th>...</th>\n",
       "      <th>order_type</th>\n",
       "      <th>reject_reason</th>\n",
       "      <th>settled</th>\n",
       "      <th>product_type</th>\n",
       "      <th>reject_message</th>\n",
       "      <th>cancel_message</th>\n",
       "      <th>order_placement_source</th>\n",
       "      <th>outstanding_hold_amount</th>\n",
       "      <th>is_liquidation</th>\n",
       "      <th>created_date</th>\n",
       "    </tr>\n",
       "  </thead>\n",
       "  <tbody>\n",
       "    <tr>\n",
       "      <th>4</th>\n",
       "      <td>a15abfc3-8b48-4d0b-8ea8-508ccb6c8a1c</td>\n",
       "      <td>BTC-USD</td>\n",
       "      <td>70471542-a0da-523b-925f-f0413dfe6b6f</td>\n",
       "      <td>{'stop_limit_stop_limit_gtc': {'base_size': '0...</td>\n",
       "      <td>SELL</td>\n",
       "      <td>coinbase_STOP_sell_btc-usd_26701</td>\n",
       "      <td>FILLED</td>\n",
       "      <td>GOOD_UNTIL_CANCELLED</td>\n",
       "      <td>2023-05-16 20:43:32.552644+00:00</td>\n",
       "      <td>100.00</td>\n",
       "      <td>...</td>\n",
       "      <td>STOP_LIMIT</td>\n",
       "      <td>REJECT_REASON_UNSPECIFIED</td>\n",
       "      <td>True</td>\n",
       "      <td>SPOT</td>\n",
       "      <td></td>\n",
       "      <td></td>\n",
       "      <td>RETAIL_ADVANCED</td>\n",
       "      <td>0</td>\n",
       "      <td>False</td>\n",
       "      <td>2023-05-16</td>\n",
       "    </tr>\n",
       "    <tr>\n",
       "      <th>10</th>\n",
       "      <td>3e2a7570-497b-48a8-b2a0-d930bed1bb8d</td>\n",
       "      <td>BTC-USD</td>\n",
       "      <td>70471542-a0da-523b-925f-f0413dfe6b6f</td>\n",
       "      <td>{'limit_limit_gtc': {'base_size': '0.00007464'...</td>\n",
       "      <td>BUY</td>\n",
       "      <td>f0bf4497-6b8e-496b-bbe4-00265406d568</td>\n",
       "      <td>FILLED</td>\n",
       "      <td>GOOD_UNTIL_CANCELLED</td>\n",
       "      <td>2023-05-11 18:39:13.956756+00:00</td>\n",
       "      <td>100.00</td>\n",
       "      <td>...</td>\n",
       "      <td>LIMIT</td>\n",
       "      <td>REJECT_REASON_UNSPECIFIED</td>\n",
       "      <td>True</td>\n",
       "      <td>SPOT</td>\n",
       "      <td></td>\n",
       "      <td></td>\n",
       "      <td>RETAIL_ADVANCED</td>\n",
       "      <td>0</td>\n",
       "      <td>False</td>\n",
       "      <td>2023-05-11</td>\n",
       "    </tr>\n",
       "    <tr>\n",
       "      <th>11</th>\n",
       "      <td>68cc9a52-f3e4-4e6f-ab44-6ae762672ea1</td>\n",
       "      <td>BTC-USD</td>\n",
       "      <td>70471542-a0da-523b-925f-f0413dfe6b6f</td>\n",
       "      <td>{'limit_limit_gtc': {'base_size': '0.03525045'...</td>\n",
       "      <td>BUY</td>\n",
       "      <td>8bba60ec-6518-45fc-b241-7f0b2dba83d6</td>\n",
       "      <td>FILLED</td>\n",
       "      <td>GOOD_UNTIL_CANCELLED</td>\n",
       "      <td>2023-04-26 22:23:38.743456+00:00</td>\n",
       "      <td>100.00</td>\n",
       "      <td>...</td>\n",
       "      <td>LIMIT</td>\n",
       "      <td>REJECT_REASON_UNSPECIFIED</td>\n",
       "      <td>True</td>\n",
       "      <td>SPOT</td>\n",
       "      <td></td>\n",
       "      <td></td>\n",
       "      <td>RETAIL_ADVANCED</td>\n",
       "      <td>0</td>\n",
       "      <td>False</td>\n",
       "      <td>2023-04-26</td>\n",
       "    </tr>\n",
       "    <tr>\n",
       "      <th>12</th>\n",
       "      <td>5cd54718-c73e-4b0f-97a5-9ca18c0289ed</td>\n",
       "      <td>BTC-USD</td>\n",
       "      <td>70471542-a0da-523b-925f-f0413dfe6b6f</td>\n",
       "      <td>{'limit_limit_gtc': {'base_size': '0.03313886'...</td>\n",
       "      <td>BUY</td>\n",
       "      <td>a22f52d3-df99-4c6c-ae91-88de7c80128f</td>\n",
       "      <td>FILLED</td>\n",
       "      <td>GOOD_UNTIL_CANCELLED</td>\n",
       "      <td>2023-04-17 02:37:53.664338+00:00</td>\n",
       "      <td>100.00</td>\n",
       "      <td>...</td>\n",
       "      <td>LIMIT</td>\n",
       "      <td>REJECT_REASON_UNSPECIFIED</td>\n",
       "      <td>True</td>\n",
       "      <td>SPOT</td>\n",
       "      <td></td>\n",
       "      <td></td>\n",
       "      <td>RETAIL_ADVANCED</td>\n",
       "      <td>0</td>\n",
       "      <td>False</td>\n",
       "      <td>2023-04-17</td>\n",
       "    </tr>\n",
       "    <tr>\n",
       "      <th>14</th>\n",
       "      <td>b02c73db-f652-4ef4-9230-67a3b3414426</td>\n",
       "      <td>BTC-USD</td>\n",
       "      <td>70471542-a0da-523b-925f-f0413dfe6b6f</td>\n",
       "      <td>{'limit_limit_gtc': {'base_size': '1.17865721'...</td>\n",
       "      <td>SELL</td>\n",
       "      <td>73072a2e-f041-4d79-9580-caba0abee38b</td>\n",
       "      <td>FILLED</td>\n",
       "      <td>GOOD_UNTIL_CANCELLED</td>\n",
       "      <td>2023-01-10 22:27:14.500738+00:00</td>\n",
       "      <td>100.00</td>\n",
       "      <td>...</td>\n",
       "      <td>LIMIT</td>\n",
       "      <td>REJECT_REASON_UNSPECIFIED</td>\n",
       "      <td>True</td>\n",
       "      <td>SPOT</td>\n",
       "      <td></td>\n",
       "      <td></td>\n",
       "      <td>RETAIL_ADVANCED</td>\n",
       "      <td>0</td>\n",
       "      <td>False</td>\n",
       "      <td>2023-01-10</td>\n",
       "    </tr>\n",
       "  </tbody>\n",
       "</table>\n",
       "<p>5 rows × 31 columns</p>\n",
       "</div>"
      ],
      "text/plain": [
       "                                order_id product_id  \\\n",
       "4   a15abfc3-8b48-4d0b-8ea8-508ccb6c8a1c    BTC-USD   \n",
       "10  3e2a7570-497b-48a8-b2a0-d930bed1bb8d    BTC-USD   \n",
       "11  68cc9a52-f3e4-4e6f-ab44-6ae762672ea1    BTC-USD   \n",
       "12  5cd54718-c73e-4b0f-97a5-9ca18c0289ed    BTC-USD   \n",
       "14  b02c73db-f652-4ef4-9230-67a3b3414426    BTC-USD   \n",
       "\n",
       "                                 user_id  \\\n",
       "4   70471542-a0da-523b-925f-f0413dfe6b6f   \n",
       "10  70471542-a0da-523b-925f-f0413dfe6b6f   \n",
       "11  70471542-a0da-523b-925f-f0413dfe6b6f   \n",
       "12  70471542-a0da-523b-925f-f0413dfe6b6f   \n",
       "14  70471542-a0da-523b-925f-f0413dfe6b6f   \n",
       "\n",
       "                                  order_configuration  side  \\\n",
       "4   {'stop_limit_stop_limit_gtc': {'base_size': '0...  SELL   \n",
       "10  {'limit_limit_gtc': {'base_size': '0.00007464'...   BUY   \n",
       "11  {'limit_limit_gtc': {'base_size': '0.03525045'...   BUY   \n",
       "12  {'limit_limit_gtc': {'base_size': '0.03313886'...   BUY   \n",
       "14  {'limit_limit_gtc': {'base_size': '1.17865721'...  SELL   \n",
       "\n",
       "                         client_order_id  status         time_in_force  \\\n",
       "4       coinbase_STOP_sell_btc-usd_26701  FILLED  GOOD_UNTIL_CANCELLED   \n",
       "10  f0bf4497-6b8e-496b-bbe4-00265406d568  FILLED  GOOD_UNTIL_CANCELLED   \n",
       "11  8bba60ec-6518-45fc-b241-7f0b2dba83d6  FILLED  GOOD_UNTIL_CANCELLED   \n",
       "12  a22f52d3-df99-4c6c-ae91-88de7c80128f  FILLED  GOOD_UNTIL_CANCELLED   \n",
       "14  73072a2e-f041-4d79-9580-caba0abee38b  FILLED  GOOD_UNTIL_CANCELLED   \n",
       "\n",
       "                       created_time completion_percentage  ...  order_type  \\\n",
       "4  2023-05-16 20:43:32.552644+00:00                100.00  ...  STOP_LIMIT   \n",
       "10 2023-05-11 18:39:13.956756+00:00                100.00  ...       LIMIT   \n",
       "11 2023-04-26 22:23:38.743456+00:00                100.00  ...       LIMIT   \n",
       "12 2023-04-17 02:37:53.664338+00:00                100.00  ...       LIMIT   \n",
       "14 2023-01-10 22:27:14.500738+00:00                100.00  ...       LIMIT   \n",
       "\n",
       "                reject_reason settled product_type reject_message  \\\n",
       "4   REJECT_REASON_UNSPECIFIED    True         SPOT                  \n",
       "10  REJECT_REASON_UNSPECIFIED    True         SPOT                  \n",
       "11  REJECT_REASON_UNSPECIFIED    True         SPOT                  \n",
       "12  REJECT_REASON_UNSPECIFIED    True         SPOT                  \n",
       "14  REJECT_REASON_UNSPECIFIED    True         SPOT                  \n",
       "\n",
       "    cancel_message  order_placement_source outstanding_hold_amount  \\\n",
       "4                          RETAIL_ADVANCED                       0   \n",
       "10                         RETAIL_ADVANCED                       0   \n",
       "11                         RETAIL_ADVANCED                       0   \n",
       "12                         RETAIL_ADVANCED                       0   \n",
       "14                         RETAIL_ADVANCED                       0   \n",
       "\n",
       "    is_liquidation created_date  \n",
       "4            False   2023-05-16  \n",
       "10           False   2023-05-11  \n",
       "11           False   2023-04-26  \n",
       "12           False   2023-04-17  \n",
       "14           False   2023-01-10  \n",
       "\n",
       "[5 rows x 31 columns]"
      ]
     },
     "execution_count": 5,
     "metadata": {},
     "output_type": "execute_result"
    }
   ],
   "source": [
    "coinbase.get_orders(since = 'all', active=False).head(5)"
   ]
  },
  {
   "attachments": {},
   "cell_type": "markdown",
   "metadata": {},
   "source": [
    "# Cancel orders"
   ]
  },
  {
   "attachments": {},
   "cell_type": "markdown",
   "metadata": {},
   "source": [
    "## Cancels all orders (defualt)"
   ]
  },
  {
   "cell_type": "code",
   "execution_count": null,
   "metadata": {},
   "outputs": [],
   "source": [
    "coinbase.cancel_order()"
   ]
  },
  {
   "attachments": {},
   "cell_type": "markdown",
   "metadata": {},
   "source": [
    "## Cancel specific order"
   ]
  },
  {
   "cell_type": "code",
   "execution_count": null,
   "metadata": {},
   "outputs": [],
   "source": [
    "orderIDs = ['1', '2', '3'] # replace with your order IDs\n",
    "coinbase.cancel_order(orderIDs)"
   ]
  }
 ],
 "metadata": {
  "kernelspec": {
   "display_name": "base",
   "language": "python",
   "name": "python3"
  },
  "language_info": {
   "codemirror_mode": {
    "name": "ipython",
    "version": 3
   },
   "file_extension": ".py",
   "mimetype": "text/x-python",
   "name": "python",
   "nbconvert_exporter": "python",
   "pygments_lexer": "ipython3",
   "version": "3.9.16"
  },
  "orig_nbformat": 4
 },
 "nbformat": 4,
 "nbformat_minor": 2
}
